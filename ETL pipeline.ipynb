{
 "cells": [
  {
   "cell_type": "code",
   "execution_count": 1,
   "id": "69ac68dc-fabd-460f-8055-94a1c831694d",
   "metadata": {},
   "outputs": [],
   "source": [
    "import pandas as pd\n",
    "import mysql.connector"
   ]
  },
  {
   "cell_type": "code",
   "execution_count": 2,
   "id": "83c9a038-e54e-45c3-b69a-585dca9aaf9c",
   "metadata": {},
   "outputs": [],
   "source": [
    "connection = mysql.connector.connect(      \n",
    "    host=\"localhost\",      \n",
    "    user=\"root\",  \n",
    "    password=\"root@123\",  \n",
    "    database=\"activity\"  \n",
    ")  "
   ]
  },
  {
   "cell_type": "code",
   "execution_count": 4,
   "id": "62fa46a3-b6f2-4005-b3fa-dd273d4a4f88",
   "metadata": {},
   "outputs": [
    {
     "name": "stderr",
     "output_type": "stream",
     "text": [
      "C:\\Users\\ryadav120\\AppData\\Local\\Temp\\ipykernel_9224\\4123937211.py:2: UserWarning: pandas only supports SQLAlchemy connectable (engine/connection) or database string URI or sqlite3 DBAPI2 connection. Other DBAPI2 objects are not tested. Please consider using SQLAlchemy.\n",
      "  df = pd.read_sql(query, connection)\n"
     ]
    }
   ],
   "source": [
    "query = \"SELECT * FROM employee\"  \n",
    "df = pd.read_sql(query, connection) "
   ]
  },
  {
   "cell_type": "code",
   "execution_count": 5,
   "id": "faeedbd3-619c-4c71-aa73-8c0584f7f3fe",
   "metadata": {},
   "outputs": [],
   "source": [
    "connection.close() "
   ]
  },
  {
   "cell_type": "code",
   "execution_count": 6,
   "id": "dce48eda-1c02-4f30-afac-0b96775f78a0",
   "metadata": {},
   "outputs": [],
   "source": [
    "df = df.drop_duplicates()"
   ]
  },
  {
   "cell_type": "code",
   "execution_count": 7,
   "id": "452d3735-30dd-4f26-a9c3-b59566e87431",
   "metadata": {},
   "outputs": [],
   "source": [
    "df = df.fillna(\"NA\")"
   ]
  },
  {
   "cell_type": "code",
   "execution_count": 8,
   "id": "7a6269fe-0b59-4ee4-aba3-4abd94bbf431",
   "metadata": {},
   "outputs": [],
   "source": [
    "from pymongo import MongoClient "
   ]
  },
  {
   "cell_type": "code",
   "execution_count": 14,
   "id": "d697446c-94b1-40ea-b270-771b30c7cdb5",
   "metadata": {},
   "outputs": [],
   "source": [
    "client = MongoClient(\"mongodb://localhost:27017\")  \n",
    "db = client[\"activity\"]  \n",
    "collection = db[\"employee\"]  "
   ]
  },
  {
   "cell_type": "code",
   "execution_count": 15,
   "id": "966aa51c-48ee-4da3-9917-13adb50e338f",
   "metadata": {},
   "outputs": [],
   "source": [
    "data =df.to_dict(orient=\"records\")\n"
   ]
  },
  {
   "cell_type": "code",
   "execution_count": 16,
   "id": "5f8a69b3-1e73-472f-a066-aeb5765a74b0",
   "metadata": {},
   "outputs": [
    {
     "data": {
      "text/plain": [
       "InsertManyResult([ObjectId('65e81a9cecf38f21d34f5451'), ObjectId('65e81a9cecf38f21d34f5452'), ObjectId('65e81a9cecf38f21d34f5453'), ObjectId('65e81a9cecf38f21d34f5454'), ObjectId('65e81a9cecf38f21d34f5455'), ObjectId('65e81a9cecf38f21d34f5456'), ObjectId('65e81a9cecf38f21d34f5457'), ObjectId('65e81a9cecf38f21d34f5458'), ObjectId('65e81a9cecf38f21d34f5459'), ObjectId('65e81a9cecf38f21d34f545a')], acknowledged=True)"
      ]
     },
     "execution_count": 16,
     "metadata": {},
     "output_type": "execute_result"
    }
   ],
   "source": [
    "collection.insert_many(data)"
   ]
  },
  {
   "cell_type": "code",
   "execution_count": 17,
   "id": "bc8fae1b-c140-4e45-9d49-59ced6647288",
   "metadata": {},
   "outputs": [],
   "source": [
    "client.close()"
   ]
  }
 ],
 "metadata": {
  "kernelspec": {
   "display_name": "Python 3 (ipykernel)",
   "language": "python",
   "name": "python3"
  },
  "language_info": {
   "codemirror_mode": {
    "name": "ipython",
    "version": 3
   },
   "file_extension": ".py",
   "mimetype": "text/x-python",
   "name": "python",
   "nbconvert_exporter": "python",
   "pygments_lexer": "ipython3",
   "version": "3.11.7"
  }
 },
 "nbformat": 4,
 "nbformat_minor": 5
}
