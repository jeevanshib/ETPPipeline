{
 "cells": [
  {
   "cell_type": "code",
   "execution_count": 1,
   "id": "1777aa12-bed3-45fc-9103-5f6f914cce5b",
   "metadata": {},
   "outputs": [
    {
     "name": "stdout",
     "output_type": "stream",
     "text": [
      "Requirement already satisfied: mysql-connector-python in c:\\users\\jbansal010\\appdata\\local\\anaconda3\\lib\\site-packages (8.3.0)\n"
     ]
    }
   ],
   "source": [
    "!pip install mysql-connector-python"
   ]
  },
  {
   "cell_type": "code",
   "execution_count": 36,
   "id": "ca8689f2-a912-4686-a751-fa67958f7e2b",
   "metadata": {},
   "outputs": [],
   "source": [
    "import pandas as pd  \n",
    "import mysql.connector as connection"
   ]
  },
  {
   "cell_type": "code",
   "execution_count": 37,
   "id": "86e4e1bb-e808-416b-96ec-0b39b60a662b",
   "metadata": {},
   "outputs": [],
   "source": [
    "connection = connection.connect(  \n",
    "    host='localhost',  \n",
    "    user='root',  \n",
    "    password='Welcome@123',  \n",
    "    database='Pipeline'  \n",
    ")"
   ]
  },
  {
   "cell_type": "code",
   "execution_count": 38,
   "id": "b12a38f4-017d-4459-8aa7-8e3f23f919b3",
   "metadata": {},
   "outputs": [
    {
     "name": "stderr",
     "output_type": "stream",
     "text": [
      "C:\\Users\\jbansal010\\AppData\\Local\\Temp\\ipykernel_25940\\456838623.py:2: UserWarning: pandas only supports SQLAlchemy connectable (engine/connection) or database string URI or sqlite3 DBAPI2 connection. Other DBAPI2 objects are not tested. Please consider using SQLAlchemy.\n",
      "  df = pd.read_sql(query, connection)\n"
     ]
    }
   ],
   "source": [
    "query = \"SELECT * FROM emp\"  \n",
    "df = pd.read_sql(query, connection) "
   ]
  },
  {
   "cell_type": "code",
   "execution_count": 39,
   "id": "9eec3075-264d-4bef-ad69-f89a5b6ab369",
   "metadata": {},
   "outputs": [],
   "source": [
    "connection.close() "
   ]
  },
  {
   "cell_type": "code",
   "execution_count": 40,
   "id": "929a2eb7-9555-4ca3-9bee-18ab11e5ac38",
   "metadata": {},
   "outputs": [],
   "source": [
    "df = df.drop_duplicates()"
   ]
  },
  {
   "cell_type": "code",
   "execution_count": 41,
   "id": "16af1f06-51e1-4463-873a-ebefe3a3ad9a",
   "metadata": {},
   "outputs": [],
   "source": [
    "df = df.fillna(10000)"
   ]
  },
  {
   "cell_type": "code",
   "execution_count": 42,
   "id": "f38b721b-81e2-41a8-be89-5256d0d67947",
   "metadata": {},
   "outputs": [],
   "source": [
    "from pymongo import MongoClient"
   ]
  },
  {
   "cell_type": "code",
   "execution_count": 43,
   "id": "da9b8e92-a432-455e-aca3-025f42e74bd7",
   "metadata": {},
   "outputs": [],
   "source": [
    "client = MongoClient(\"mongodb://localhost:27017\")  \n",
    "db = client[\"activity\"]  \n",
    "collection = db[\"employee\"]"
   ]
  },
  {
   "cell_type": "code",
   "execution_count": 44,
   "id": "6135fa1b-1c0d-40ba-8df5-df69cf896130",
   "metadata": {},
   "outputs": [],
   "source": [
    "data =df.to_dict(orient=\"records\")"
   ]
  },
  {
   "cell_type": "code",
   "execution_count": 45,
   "id": "275f00f2-2e5c-481b-b6a6-79f276842207",
   "metadata": {},
   "outputs": [
    {
     "data": {
      "text/plain": [
       "InsertManyResult([ObjectId('65e836e2c88cd1f8a081ffc8'), ObjectId('65e836e2c88cd1f8a081ffc9'), ObjectId('65e836e2c88cd1f8a081ffca')], acknowledged=True)"
      ]
     },
     "execution_count": 45,
     "metadata": {},
     "output_type": "execute_result"
    }
   ],
   "source": [
    "collection.insert_many(data)"
   ]
  },
  {
   "cell_type": "code",
   "execution_count": 53,
   "id": "ce80dcf1-9368-435d-b58c-067b671cf24d",
   "metadata": {},
   "outputs": [],
   "source": [
    "client.close()"
   ]
  },
  {
   "cell_type": "code",
   "execution_count": null,
   "id": "95aea413-5454-4853-97c0-9caeaf598a55",
   "metadata": {},
   "outputs": [],
   "source": []
  }
 ],
 "metadata": {
  "kernelspec": {
   "display_name": "Python 3 (ipykernel)",
   "language": "python",
   "name": "python3"
  },
  "language_info": {
   "codemirror_mode": {
    "name": "ipython",
    "version": 3
   },
   "file_extension": ".py",
   "mimetype": "text/x-python",
   "name": "python",
   "nbconvert_exporter": "python",
   "pygments_lexer": "ipython3",
   "version": "3.11.7"
  }
 },
 "nbformat": 4,
 "nbformat_minor": 5
}
