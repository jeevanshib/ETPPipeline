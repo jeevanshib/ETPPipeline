{
 "cells": [
  {
   "cell_type": "code",
   "execution_count": 1,
   "id": "658910d9-c22f-4362-83a1-eef5b3adc738",
   "metadata": {},
   "outputs": [],
   "source": [
    "import pymongo"
   ]
  },
  {
   "cell_type": "code",
   "execution_count": 11,
   "id": "8ae682e6-56f9-408c-89c0-bc50e709afce",
   "metadata": {},
   "outputs": [],
   "source": [
    "DEFAULT_CONNECTION_URL = \"mongodb://localhost:27017/\"\n",
    "DB_NAME = \"PRODUCTS\"\n",
    "client = pymongo.MongoClient(DEFAULT_CONNECTION_URL)\n",
    "dataBase = client[DB_NAME]"
   ]
  },
  {
   "cell_type": "code",
   "execution_count": 12,
   "id": "9a0d6093-fe59-49be-8b1e-7fdeaea61821",
   "metadata": {},
   "outputs": [
    {
     "data": {
      "text/plain": [
       "['admin', 'config', 'local']"
      ]
     },
     "execution_count": 12,
     "metadata": {},
     "output_type": "execute_result"
    }
   ],
   "source": [
    "client.list_database_names()"
   ]
  },
  {
   "cell_type": "code",
   "execution_count": 13,
   "id": "0867de07-4228-4556-bbc8-d5c974c72c8b",
   "metadata": {},
   "outputs": [
    {
     "name": "stdout",
     "output_type": "stream",
     "text": [
      "DB:'PRODUCTS' not present in list\n"
     ]
    }
   ],
   "source": [
    "def checkExistence_DB(DB_NAME, client):\n",
    "    DBlist = client.list_database_names()\n",
    "    if DB_NAME in DBlist:\n",
    "        print(f\"DB:'{DB_NAME}' exists\")\n",
    "        return True\n",
    "    print(f\"DB:'{DB_NAME}' not present in list\")\n",
    "    return False\n",
    "_=checkExistence_DB(DB_NAME = DB_NAME, client = client)"
   ]
  },
  {
   "cell_type": "code",
   "execution_count": 16,
   "id": "8a9023c3-39ea-440f-a6aa-80ac3ed415d6",
   "metadata": {},
   "outputs": [],
   "source": [
    "COLLECTION_NAME = \"PRODUCTS\"\n",
    "collection = dataBase[COLLECTION_NAME]"
   ]
  },
  {
   "cell_type": "code",
   "execution_count": 21,
   "id": "093f0832-cdba-4fca-a18c-b95c4ab51bed",
   "metadata": {},
   "outputs": [
    {
     "name": "stdout",
     "output_type": "stream",
     "text": [
      "DB:'PRODUCTS' not present in list\n"
     ]
    }
   ],
   "source": [
    "def checkExistence_DB(COLLECTION_NAME, DB_NAME, db):\n",
    "    COLLECTION_LIST = db.list_collection_names()\n",
    "    if COLLECTION_NAME in COLLECTION_LIST:\n",
    "        print(f\"DB:'{COLLECTION_NAME}' exists\")\n",
    "        return True\n",
    "    print(f\"DB:'{COLLECTION_NAME}' not present in list\")\n",
    "    return False\n",
    "_=checkExistence_DB(COLLECTION_NAME = COLLECTION_NAME,DB_NAME=DB_NAME , db = dataBase)"
   ]
  },
  {
   "cell_type": "code",
   "execution_count": 22,
   "id": "b9314c0a-4cb8-4888-ac43-25e3ee349e20",
   "metadata": {},
   "outputs": [
    {
     "data": {
      "text/plain": [
       "InsertOneResult(ObjectId('65e8006aedbc7ba42423cf98'), acknowledged=True)"
      ]
     },
     "execution_count": 22,
     "metadata": {},
     "output_type": "execute_result"
    }
   ],
   "source": [
    "record = {'companyName':'AI insights',\n",
    "          'product':'greatai',\n",
    "          'courseOffered':'Deep Learning for CV'}\n",
    "collection.insert_one(record)"
   ]
  },
  {
   "cell_type": "code",
   "execution_count": 24,
   "id": "60f61025-9b83-46ce-9900-a415bc4cff21",
   "metadata": {},
   "outputs": [
    {
     "name": "stdout",
     "output_type": "stream",
     "text": [
      "DB:'PRODUCTS' exists\n"
     ]
    }
   ],
   "source": [
    "_=checkExistence_DB(COLLECTION_NAME = COLLECTION_NAME,DB_NAME=DB_NAME , db = dataBase)"
   ]
  },
  {
   "cell_type": "code",
   "execution_count": 25,
   "id": "246b38fb-e261-4915-a018-344373cfd453",
   "metadata": {},
   "outputs": [],
   "source": [
    "list_of_records=[\n",
    "    {'companyName' : 'MNWI',\n",
    "     'product':'234AI',\n",
    "     'courseOffered':'Machine learning for CV'},\n",
    "    {'companyName' : 'Taiwan',\n",
    "     'product':'876ML',\n",
    "     'courseOffered':'Machine learning and AI for CV'},\n",
    "    {'companyName' : 'BMW',\n",
    "     'product':'234AI',\n",
    "     'courseOffered':'Machine learning and DL for CV'},\n",
    "    {'companyName' : 'LND',\n",
    "     'product':'234AI',\n",
    "     'courseOffered':'Machine learning and OOPS for CV'}]"
   ]
  },
  {
   "cell_type": "code",
   "execution_count": 26,
   "id": "7e21e613-0a6a-4c29-9123-7e2f7946cad4",
   "metadata": {},
   "outputs": [],
   "source": [
    "rec = collection.insert_many(list_of_records)"
   ]
  },
  {
   "cell_type": "code",
   "execution_count": 27,
   "id": "b0ac1509-c633-4d08-9511-06c1aca64aeb",
   "metadata": {},
   "outputs": [
    {
     "name": "stdout",
     "output_type": "stream",
     "text": [
      "0.65e80206edbc7ba42423cf99\n",
      "1.65e80206edbc7ba42423cf9a\n",
      "2.65e80206edbc7ba42423cf9b\n",
      "3.65e80206edbc7ba42423cf9c\n"
     ]
    }
   ],
   "source": [
    "inserted_IDs = rec.inserted_ids\n",
    "for idx, unique_ids, in enumerate(inserted_IDs):\n",
    "    print(f\"{idx}.{unique_ids}\")"
   ]
  },
  {
   "cell_type": "code",
   "execution_count": 29,
   "id": "487f8a78-0199-45b5-a306-48dc62f53244",
   "metadata": {},
   "outputs": [],
   "source": [
    "COLLECTION_NAME = \"College_Faculties\"\n",
    "faculties = dataBase[COLLECTION_NAME]\n",
    "list_of_records_user_defined_id = [\n",
    "    {\"_id\":\"1\",\n",
    "     \"companyName\":\"ATBS\",\n",
    "     \"Faculty\":\"Arvind\"},\n",
    "    {\"_id\":\"2\",\n",
    "     \"companyName\":\"PWC\",\n",
    "     \"Faculty\":\"Anwesha\"}]\n",
    "faculties_record = faculties.insert_many(list_of_records_user_defined_id)\n",
    "    "
   ]
  },
  {
   "cell_type": "code",
   "execution_count": 34,
   "id": "9649cec9-a1e1-4502-b40d-09029361a382",
   "metadata": {},
   "outputs": [
    {
     "name": "stdout",
     "output_type": "stream",
     "text": [
      "The first record of collection:\n",
      "College_Faculties is= \n",
      " {'_id': '1', 'companyName': 'ATBS', 'Faculty': 'Arvind'}\n"
     ]
    }
   ],
   "source": [
    "find_first_record = faculties.find_one()\n",
    "print(f\"The first record of collection:\\n{COLLECTION_NAME} is= \\n {find_first_record}\")"
   ]
  },
  {
   "cell_type": "code",
   "execution_count": 37,
   "id": "d10ca4f9-1fb9-4e29-8a6a-c16bcf1f4cae",
   "metadata": {},
   "outputs": [
    {
     "name": "stdout",
     "output_type": "stream",
     "text": [
      "0:{'_id': '1', 'companyName': 'ATBS', 'Faculty': 'Arvind'}\n",
      "1:{'_id': '2', 'companyName': 'PWC', 'Faculty': 'Anwesha'}\n"
     ]
    }
   ],
   "source": [
    "all_record = faculties.find()\n",
    "for idx, record in enumerate(all_record):\n",
    "    print(f\"{idx}:{record}\")\n"
   ]
  },
  {
   "cell_type": "code",
   "execution_count": 38,
   "id": "6921d8b2-b76e-424f-9061-0c108243887b",
   "metadata": {},
   "outputs": [
    {
     "name": "stdout",
     "output_type": "stream",
     "text": [
      "{'_id': '1', 'companyName': 'ATBS', 'Faculty': 'Arvind'}\n"
     ]
    }
   ],
   "source": [
    "query1 = {\"_id\":\"1\"}\n",
    "results = faculties.find(query1)\n",
    "for data in results:\n",
    "    print(data)"
   ]
  },
  {
   "cell_type": "code",
   "execution_count": 66,
   "id": "8b736a53-7696-4e63-9a46-0e5da10386cd",
   "metadata": {},
   "outputs": [
    {
     "name": "stdout",
     "output_type": "stream",
     "text": [
      "{'_id': '11', 'companyName': 'PWC', 'Faculty': 'ABC'}\n",
      "{'_id': '2', 'companyName': 'PWC', 'Faculty': 'Anwesha'}\n",
      "{'_id': '3', 'companyName': 'PWC', 'Faculty': 'ABC'}\n",
      "{'_id': '4', 'companyName': 'PWC', 'Faculty': 'ABC'}\n",
      "{'_id': '5', 'companyName': 'Rajesh5', 'Faculty': 'Mudhukar5', 'salary': '50000'}\n",
      "{'_id': '6', 'companyName': 'Rajesh6', 'Faculty': 'Mudhukar6', 'salary': '70000'}\n"
     ]
    }
   ],
   "source": [
    "query2={\"_id\":{\"$gt\":\"1\"}}\n",
    "results = faculties.find(query2)\n",
    "for data in results:\n",
    "    print(data)"
   ]
  },
  {
   "cell_type": "code",
   "execution_count": 69,
   "id": "932ee8c6-8c3d-449b-bde8-adca1f359004",
   "metadata": {},
   "outputs": [
    {
     "ename": "BulkWriteError",
     "evalue": "batch op errors occurred, full error: {'writeErrors': [{'index': 0, 'code': 11000, 'errmsg': 'E11000 duplicate key error collection: PRODUCTS.College_Faculties index: _id_ dup key: { _id: \"3\" }', 'keyPattern': {'_id': 1}, 'keyValue': {'_id': '3'}, 'op': {'_id': '3', 'companyName': 'MMw', 'Faculty': 'xyz'}}], 'writeConcernErrors': [], 'nInserted': 0, 'nUpserted': 0, 'nMatched': 0, 'nModified': 0, 'nRemoved': 0, 'upserted': []}",
     "output_type": "error",
     "traceback": [
      "\u001b[1;31m---------------------------------------------------------------------------\u001b[0m",
      "\u001b[1;31mBulkWriteError\u001b[0m                            Traceback (most recent call last)",
      "Cell \u001b[1;32mIn[69], line 5\u001b[0m\n\u001b[0;32m      1\u001b[0m random_data \u001b[38;5;241m=\u001b[39m [\n\u001b[0;32m      2\u001b[0m     {\u001b[38;5;124m'\u001b[39m\u001b[38;5;124m_id\u001b[39m\u001b[38;5;124m'\u001b[39m: \u001b[38;5;124m'\u001b[39m\u001b[38;5;124m3\u001b[39m\u001b[38;5;124m'\u001b[39m, \u001b[38;5;124m'\u001b[39m\u001b[38;5;124mcompanyName\u001b[39m\u001b[38;5;124m'\u001b[39m:\u001b[38;5;124m'\u001b[39m\u001b[38;5;124mMMw\u001b[39m\u001b[38;5;124m'\u001b[39m, \u001b[38;5;124m'\u001b[39m\u001b[38;5;124mFaculty\u001b[39m\u001b[38;5;124m'\u001b[39m: \u001b[38;5;124m'\u001b[39m\u001b[38;5;124mxyz\u001b[39m\u001b[38;5;124m'\u001b[39m},\n\u001b[0;32m      3\u001b[0m     {\u001b[38;5;124m'\u001b[39m\u001b[38;5;124m_id\u001b[39m\u001b[38;5;124m'\u001b[39m: \u001b[38;5;124m'\u001b[39m\u001b[38;5;124m4\u001b[39m\u001b[38;5;124m'\u001b[39m, \u001b[38;5;124m'\u001b[39m\u001b[38;5;124mcompanyName\u001b[39m\u001b[38;5;124m'\u001b[39m:\u001b[38;5;124m'\u001b[39m\u001b[38;5;124mMMw\u001b[39m\u001b[38;5;124m'\u001b[39m, \u001b[38;5;124m'\u001b[39m\u001b[38;5;124mFaculty\u001b[39m\u001b[38;5;124m'\u001b[39m: \u001b[38;5;124m'\u001b[39m\u001b[38;5;124mabc\u001b[39m\u001b[38;5;124m'\u001b[39m},\n\u001b[0;32m      4\u001b[0m ]\n\u001b[1;32m----> 5\u001b[0m faculties\u001b[38;5;241m.\u001b[39minsert_many(random_data)\n",
      "File \u001b[1;32m~\\AppData\\Local\\anaconda3\\Lib\\site-packages\\pymongo\\_csot.py:107\u001b[0m, in \u001b[0;36mapply.<locals>.csot_wrapper\u001b[1;34m(self, *args, **kwargs)\u001b[0m\n\u001b[0;32m    105\u001b[0m         \u001b[38;5;28;01mwith\u001b[39;00m _TimeoutContext(timeout):\n\u001b[0;32m    106\u001b[0m             \u001b[38;5;28;01mreturn\u001b[39;00m func(\u001b[38;5;28mself\u001b[39m, \u001b[38;5;241m*\u001b[39margs, \u001b[38;5;241m*\u001b[39m\u001b[38;5;241m*\u001b[39mkwargs)\n\u001b[1;32m--> 107\u001b[0m \u001b[38;5;28;01mreturn\u001b[39;00m func(\u001b[38;5;28mself\u001b[39m, \u001b[38;5;241m*\u001b[39margs, \u001b[38;5;241m*\u001b[39m\u001b[38;5;241m*\u001b[39mkwargs)\n",
      "File \u001b[1;32m~\\AppData\\Local\\anaconda3\\Lib\\site-packages\\pymongo\\collection.py:755\u001b[0m, in \u001b[0;36mCollection.insert_many\u001b[1;34m(self, documents, ordered, bypass_document_validation, session, comment)\u001b[0m\n\u001b[0;32m    753\u001b[0m blk \u001b[38;5;241m=\u001b[39m _Bulk(\u001b[38;5;28mself\u001b[39m, ordered, bypass_document_validation, comment\u001b[38;5;241m=\u001b[39mcomment)\n\u001b[0;32m    754\u001b[0m blk\u001b[38;5;241m.\u001b[39mops \u001b[38;5;241m=\u001b[39m \u001b[38;5;28mlist\u001b[39m(gen())\n\u001b[1;32m--> 755\u001b[0m blk\u001b[38;5;241m.\u001b[39mexecute(write_concern, session\u001b[38;5;241m=\u001b[39msession)\n\u001b[0;32m    756\u001b[0m \u001b[38;5;28;01mreturn\u001b[39;00m InsertManyResult(inserted_ids, write_concern\u001b[38;5;241m.\u001b[39macknowledged)\n",
      "File \u001b[1;32m~\\AppData\\Local\\anaconda3\\Lib\\site-packages\\pymongo\\bulk.py:576\u001b[0m, in \u001b[0;36m_Bulk.execute\u001b[1;34m(self, write_concern, session)\u001b[0m\n\u001b[0;32m    574\u001b[0m         \u001b[38;5;28;01mreturn\u001b[39;00m \u001b[38;5;28;01mNone\u001b[39;00m\n\u001b[0;32m    575\u001b[0m \u001b[38;5;28;01melse\u001b[39;00m:\n\u001b[1;32m--> 576\u001b[0m     \u001b[38;5;28;01mreturn\u001b[39;00m \u001b[38;5;28mself\u001b[39m\u001b[38;5;241m.\u001b[39mexecute_command(generator, write_concern, session)\n",
      "File \u001b[1;32m~\\AppData\\Local\\anaconda3\\Lib\\site-packages\\pymongo\\bulk.py:446\u001b[0m, in \u001b[0;36m_Bulk.execute_command\u001b[1;34m(self, generator, write_concern, session)\u001b[0m\n\u001b[0;32m    443\u001b[0m client\u001b[38;5;241m.\u001b[39m_retryable_write(\u001b[38;5;28mself\u001b[39m\u001b[38;5;241m.\u001b[39mis_retryable, retryable_bulk, session, bulk\u001b[38;5;241m=\u001b[39m\u001b[38;5;28mself\u001b[39m)\n\u001b[0;32m    445\u001b[0m \u001b[38;5;28;01mif\u001b[39;00m full_result[\u001b[38;5;124m\"\u001b[39m\u001b[38;5;124mwriteErrors\u001b[39m\u001b[38;5;124m\"\u001b[39m] \u001b[38;5;129;01mor\u001b[39;00m full_result[\u001b[38;5;124m\"\u001b[39m\u001b[38;5;124mwriteConcernErrors\u001b[39m\u001b[38;5;124m\"\u001b[39m]:\n\u001b[1;32m--> 446\u001b[0m     _raise_bulk_write_error(full_result)\n\u001b[0;32m    447\u001b[0m \u001b[38;5;28;01mreturn\u001b[39;00m full_result\n",
      "File \u001b[1;32m~\\AppData\\Local\\anaconda3\\Lib\\site-packages\\pymongo\\bulk.py:157\u001b[0m, in \u001b[0;36m_raise_bulk_write_error\u001b[1;34m(full_result)\u001b[0m\n\u001b[0;32m    155\u001b[0m \u001b[38;5;28;01mif\u001b[39;00m full_result[\u001b[38;5;124m\"\u001b[39m\u001b[38;5;124mwriteErrors\u001b[39m\u001b[38;5;124m\"\u001b[39m]:\n\u001b[0;32m    156\u001b[0m     full_result[\u001b[38;5;124m\"\u001b[39m\u001b[38;5;124mwriteErrors\u001b[39m\u001b[38;5;124m\"\u001b[39m]\u001b[38;5;241m.\u001b[39msort(key\u001b[38;5;241m=\u001b[39m\u001b[38;5;28;01mlambda\u001b[39;00m error: error[\u001b[38;5;124m\"\u001b[39m\u001b[38;5;124mindex\u001b[39m\u001b[38;5;124m\"\u001b[39m])\n\u001b[1;32m--> 157\u001b[0m \u001b[38;5;28;01mraise\u001b[39;00m BulkWriteError(full_result)\n",
      "\u001b[1;31mBulkWriteError\u001b[0m: batch op errors occurred, full error: {'writeErrors': [{'index': 0, 'code': 11000, 'errmsg': 'E11000 duplicate key error collection: PRODUCTS.College_Faculties index: _id_ dup key: { _id: \"3\" }', 'keyPattern': {'_id': 1}, 'keyValue': {'_id': '3'}, 'op': {'_id': '3', 'companyName': 'MMw', 'Faculty': 'xyz'}}], 'writeConcernErrors': [], 'nInserted': 0, 'nUpserted': 0, 'nMatched': 0, 'nModified': 0, 'nRemoved': 0, 'upserted': []}"
     ]
    }
   ],
   "source": [
    "random_data = [\n",
    "    {'_id': '3', 'companyName':'MMw', 'Faculty': 'xyz'},\n",
    "    {'_id': '4', 'companyName':'MMw', 'Faculty': 'abc'},\n",
    "]\n",
    "faculties.insert_many(random_data)"
   ]
  },
  {
   "cell_type": "code",
   "execution_count": 70,
   "id": "af27ede0-944f-4db3-bd23-250ce97b11b5",
   "metadata": {},
   "outputs": [
    {
     "data": {
      "text/plain": [
       "DeleteResult({'n': 0, 'ok': 1.0}, acknowledged=True)"
      ]
     },
     "execution_count": 70,
     "metadata": {},
     "output_type": "execute_result"
    }
   ],
   "source": [
    "query_to_delete={\"Faculty\": \"XYZ\"}\n",
    "faculties.delete_one(query_to_delete)"
   ]
  },
  {
   "cell_type": "code",
   "execution_count": 71,
   "id": "cbabdda6-1e38-4837-944e-078032f3f40d",
   "metadata": {},
   "outputs": [
    {
     "data": {
      "text/plain": [
       "DeleteResult({'n': 3, 'ok': 1.0}, acknowledged=True)"
      ]
     },
     "execution_count": 71,
     "metadata": {},
     "output_type": "execute_result"
    }
   ],
   "source": [
    "multi_query_to_delete={\"_id\": {\"$gte\": \"4\"}}\n",
    "faculties.delete_many(multi_query_to_delete)"
   ]
  },
  {
   "cell_type": "code",
   "execution_count": 72,
   "id": "9be046d0-90ff-4fdc-86cf-e5adfe6c11d4",
   "metadata": {},
   "outputs": [],
   "source": [
    "faculties.drop()"
   ]
  },
  {
   "cell_type": "code",
   "execution_count": 73,
   "id": "cfca14d3-e22a-4712-ad32-6ce2a49cfc71",
   "metadata": {},
   "outputs": [
    {
     "name": "stdout",
     "output_type": "stream",
     "text": [
      "DB:'' not present in list\n"
     ]
    }
   ],
   "source": [
    "COLLECTION_NAME=\"\"\n",
    "DB_NAME=\"\"\n",
    "_=checkExistence_DB(COLLECTION_NAME = COLLECTION_NAME,DB_NAME=DB_NAME , db = dataBase)"
   ]
  },
  {
   "cell_type": "code",
   "execution_count": 76,
   "id": "2b3aaec9-bac2-433e-80b0-1e81911069ed",
   "metadata": {},
   "outputs": [],
   "source": [
    "COLLECTION_NAME=\"PRODUCTS\"\n",
    "PRODUCTS= dataBase[COLLECTION_NAME]\n",
    "all_records = PRODUCTS.find()\n",
    "for idx, record in enumerate(all_record):\n",
    "    print(f\"{record}\\n\")"
   ]
  },
  {
   "cell_type": "code",
   "execution_count": null,
   "id": "5b1a13de-549f-44a4-8f02-e9cf9dd8079c",
   "metadata": {},
   "outputs": [],
   "source": []
  }
 ],
 "metadata": {
  "kernelspec": {
   "display_name": "Python 3 (ipykernel)",
   "language": "python",
   "name": "python3"
  },
  "language_info": {
   "codemirror_mode": {
    "name": "ipython",
    "version": 3
   },
   "file_extension": ".py",
   "mimetype": "text/x-python",
   "name": "python",
   "nbconvert_exporter": "python",
   "pygments_lexer": "ipython3",
   "version": "3.11.7"
  }
 },
 "nbformat": 4,
 "nbformat_minor": 5
}
